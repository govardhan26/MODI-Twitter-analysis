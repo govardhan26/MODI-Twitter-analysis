{
 "cells": [
  {
   "cell_type": "code",
   "execution_count": 1,
   "metadata": {},
   "outputs": [],
   "source": [
    "import tweepy\n",
    "import pandas as pd\n",
    "from tweepy import OAuthHandler"
   ]
  },
  {
   "cell_type": "code",
   "execution_count": 2,
   "metadata": {},
   "outputs": [],
   "source": [
    "token_key='738TFHPud0Pp3fC3OijnlKtkr'\n",
    "token_pass='O3h7xPXsuvVV81MEwmmi6Y4m5Pto0R7rvgdoqQyQNGUkA2E74p'\n",
    "access_key='1192043180469846016-wISQIfEz9a2xofjXcsfxZFkgNgGIYC'\n",
    "access_pass='V85r9dkkRPuLFcCbWccx802uaS6FYUUPYSMMG8Dn0JrpC'"
   ]
  },
  {
   "cell_type": "code",
   "execution_count": 3,
   "metadata": {},
   "outputs": [],
   "source": [
    "auth=OAuthHandler(token_key,token_pass)"
   ]
  },
  {
   "cell_type": "code",
   "execution_count": 4,
   "metadata": {},
   "outputs": [],
   "source": [
    "auth.set_access_token(access_key,access_pass)"
   ]
  },
  {
   "cell_type": "code",
   "execution_count": 5,
   "metadata": {},
   "outputs": [],
   "source": [
    "api=tweepy.API(auth)"
   ]
  },
  {
   "cell_type": "code",
   "execution_count": 6,
   "metadata": {},
   "outputs": [],
   "source": [
    "tweet=api.search('modi',count=10000,lang='english')"
   ]
  },
  {
   "cell_type": "code",
   "execution_count": 8,
   "metadata": {},
   "outputs": [
    {
     "data": {
      "text/plain": [
       "13"
      ]
     },
     "execution_count": 8,
     "metadata": {},
     "output_type": "execute_result"
    }
   ],
   "source": [
    "len(tweet)"
   ]
  },
  {
   "cell_type": "code",
   "execution_count": 13,
   "metadata": {},
   "outputs": [
    {
     "data": {
      "text/plain": [
       "'Hard Times: Does the Modi government even understand what is going on with the Indian economy? https://t.co/RMHDCMaLb5'"
      ]
     },
     "execution_count": 13,
     "metadata": {},
     "output_type": "execute_result"
    }
   ],
   "source": [
    "tweet[0].text"
   ]
  },
  {
   "cell_type": "code",
   "execution_count": 16,
   "metadata": {},
   "outputs": [],
   "source": [
    "t=[i.text for i in tweet]"
   ]
  },
  {
   "cell_type": "code",
   "execution_count": 17,
   "metadata": {},
   "outputs": [
    {
     "data": {
      "text/plain": [
       "['Hard Times: Does the Modi government even understand what is going on with the Indian economy? https://t.co/RMHDCMaLb5',\n",
       " 'RT @AbdulMannanaik: How can India be called developed when its capital city has been reduced to gas chamber? Punjab CM to Modi https://t.co…',\n",
       " 'How can India be called developed when its capital city has been reduced to gas chamber? Punjab CM to Modi https://t.co/s1W1f9yRev',\n",
       " 'RCEP: Amul warns Modi govt, letter to Piyush Goyal likely to fall on deaf ears https://t.co/4lzlmp3hDS',\n",
       " 'Worry for BJP: When PM Modi is not a factor and nationalism does not work https://t.co/2BGVilJ9Nc',\n",
       " 'Leaked letter shows ‘International Broker’ Madi Sharma pulled off ‘PR stunt’ for Modi by facilitating Kashmir trip… https://t.co/WbJKTMO73q',\n",
       " 'Sonia Gandhi: Modi govt sees institution of RTI as an obstacle to enforcing their majoritarian agenda https://t.co/FZgieuoht5',\n",
       " '‘When PR stunt backfires’: Twitter trolls Modi after EU MP says Opp politicians should be used to visit J&amp;K https://t.co/D0AK5pTYxO',\n",
       " 'Everything is on sale...???? \\n\\nAirports for sale: Modi government to privatise six more airports, Adani may get all… https://t.co/o4SS9tiXlf',\n",
       " 'Allowing European MPs to visit Kashmir was ‘gravest sin’ by Modi government, says Congress https://t.co/v4EIeyNOLP',\n",
       " 'Modi’s PR disaster shows India not ready for independent scrutiny in Kashmir: Chris Davies https://t.co/ZS3PKJ7sVk',\n",
       " 'RT @corpliazon: 10 Reasons why Narendra Modi will win in 2024 election https://t.co/yZeyVSBANP',\n",
       " '10 Reasons why Narendra Modi will win in 2024 election https://t.co/yZeyVSBANP']"
      ]
     },
     "execution_count": 17,
     "metadata": {},
     "output_type": "execute_result"
    }
   ],
   "source": [
    "t"
   ]
  },
  {
   "cell_type": "code",
   "execution_count": 18,
   "metadata": {},
   "outputs": [],
   "source": [
    "import re"
   ]
  },
  {
   "cell_type": "code",
   "execution_count": 19,
   "metadata": {},
   "outputs": [
    {
     "data": {
      "text/html": [
       "<div>\n",
       "<style scoped>\n",
       "    .dataframe tbody tr th:only-of-type {\n",
       "        vertical-align: middle;\n",
       "    }\n",
       "\n",
       "    .dataframe tbody tr th {\n",
       "        vertical-align: top;\n",
       "    }\n",
       "\n",
       "    .dataframe thead th {\n",
       "        text-align: right;\n",
       "    }\n",
       "</style>\n",
       "<table border=\"1\" class=\"dataframe\">\n",
       "  <thead>\n",
       "    <tr style=\"text-align: right;\">\n",
       "      <th></th>\n",
       "      <th>Tweets</th>\n",
       "    </tr>\n",
       "  </thead>\n",
       "  <tbody>\n",
       "    <tr>\n",
       "      <td>0</td>\n",
       "      <td>Hard Times: Does the Modi government even unde...</td>\n",
       "    </tr>\n",
       "    <tr>\n",
       "      <td>1</td>\n",
       "      <td>RT @AbdulMannanaik: How can India be called de...</td>\n",
       "    </tr>\n",
       "    <tr>\n",
       "      <td>2</td>\n",
       "      <td>How can India be called developed when its cap...</td>\n",
       "    </tr>\n",
       "    <tr>\n",
       "      <td>3</td>\n",
       "      <td>RCEP: Amul warns Modi govt, letter to Piyush G...</td>\n",
       "    </tr>\n",
       "    <tr>\n",
       "      <td>4</td>\n",
       "      <td>Worry for BJP: When PM Modi is not a factor an...</td>\n",
       "    </tr>\n",
       "  </tbody>\n",
       "</table>\n",
       "</div>"
      ],
      "text/plain": [
       "                                              Tweets\n",
       "0  Hard Times: Does the Modi government even unde...\n",
       "1  RT @AbdulMannanaik: How can India be called de...\n",
       "2  How can India be called developed when its cap...\n",
       "3  RCEP: Amul warns Modi govt, letter to Piyush G...\n",
       "4  Worry for BJP: When PM Modi is not a factor an..."
      ]
     },
     "execution_count": 19,
     "metadata": {},
     "output_type": "execute_result"
    }
   ],
   "source": [
    "tweets=pd.DataFrame(t)\n",
    "tweets.columns=['Tweets']\n",
    "tweets.head()"
   ]
  },
  {
   "cell_type": "code",
   "execution_count": 31,
   "metadata": {},
   "outputs": [],
   "source": [
    "tweets['cleaned']=[re.split('\\W+',i) for i in t]"
   ]
  },
  {
   "cell_type": "code",
   "execution_count": 32,
   "metadata": {},
   "outputs": [
    {
     "data": {
      "text/html": [
       "<div>\n",
       "<style scoped>\n",
       "    .dataframe tbody tr th:only-of-type {\n",
       "        vertical-align: middle;\n",
       "    }\n",
       "\n",
       "    .dataframe tbody tr th {\n",
       "        vertical-align: top;\n",
       "    }\n",
       "\n",
       "    .dataframe thead th {\n",
       "        text-align: right;\n",
       "    }\n",
       "</style>\n",
       "<table border=\"1\" class=\"dataframe\">\n",
       "  <thead>\n",
       "    <tr style=\"text-align: right;\">\n",
       "      <th></th>\n",
       "      <th>Tweets</th>\n",
       "      <th>cleaned</th>\n",
       "    </tr>\n",
       "  </thead>\n",
       "  <tbody>\n",
       "    <tr>\n",
       "      <td>0</td>\n",
       "      <td>Hard Times: Does the Modi government even unde...</td>\n",
       "      <td>[Hard, Times, Does, the, Modi, government, eve...</td>\n",
       "    </tr>\n",
       "    <tr>\n",
       "      <td>1</td>\n",
       "      <td>RT @AbdulMannanaik: How can India be called de...</td>\n",
       "      <td>[RT, AbdulMannanaik, How, can, India, be, call...</td>\n",
       "    </tr>\n",
       "    <tr>\n",
       "      <td>2</td>\n",
       "      <td>How can India be called developed when its cap...</td>\n",
       "      <td>[How, can, India, be, called, developed, when,...</td>\n",
       "    </tr>\n",
       "    <tr>\n",
       "      <td>3</td>\n",
       "      <td>RCEP: Amul warns Modi govt, letter to Piyush G...</td>\n",
       "      <td>[RCEP, Amul, warns, Modi, govt, letter, to, Pi...</td>\n",
       "    </tr>\n",
       "    <tr>\n",
       "      <td>4</td>\n",
       "      <td>Worry for BJP: When PM Modi is not a factor an...</td>\n",
       "      <td>[Worry, for, BJP, When, PM, Modi, is, not, a, ...</td>\n",
       "    </tr>\n",
       "    <tr>\n",
       "      <td>5</td>\n",
       "      <td>Leaked letter shows ‘International Broker’ Mad...</td>\n",
       "      <td>[Leaked, letter, shows, International, Broker,...</td>\n",
       "    </tr>\n",
       "    <tr>\n",
       "      <td>6</td>\n",
       "      <td>Sonia Gandhi: Modi govt sees institution of RT...</td>\n",
       "      <td>[Sonia, Gandhi, Modi, govt, sees, institution,...</td>\n",
       "    </tr>\n",
       "    <tr>\n",
       "      <td>7</td>\n",
       "      <td>‘When PR stunt backfires’: Twitter trolls Modi...</td>\n",
       "      <td>[, When, PR, stunt, backfires, Twitter, trolls...</td>\n",
       "    </tr>\n",
       "    <tr>\n",
       "      <td>8</td>\n",
       "      <td>Everything is on sale...???? \\n\\nAirports for ...</td>\n",
       "      <td>[Everything, is, on, sale, Airports, for, sale...</td>\n",
       "    </tr>\n",
       "    <tr>\n",
       "      <td>9</td>\n",
       "      <td>Allowing European MPs to visit Kashmir was ‘gr...</td>\n",
       "      <td>[Allowing, European, MPs, to, visit, Kashmir, ...</td>\n",
       "    </tr>\n",
       "    <tr>\n",
       "      <td>10</td>\n",
       "      <td>Modi’s PR disaster shows India not ready for i...</td>\n",
       "      <td>[Modi, s, PR, disaster, shows, India, not, rea...</td>\n",
       "    </tr>\n",
       "    <tr>\n",
       "      <td>11</td>\n",
       "      <td>RT @corpliazon: 10 Reasons why Narendra Modi w...</td>\n",
       "      <td>[RT, corpliazon, 10, Reasons, why, Narendra, M...</td>\n",
       "    </tr>\n",
       "    <tr>\n",
       "      <td>12</td>\n",
       "      <td>10 Reasons why Narendra Modi will win in 2024 ...</td>\n",
       "      <td>[10, Reasons, why, Narendra, Modi, will, win, ...</td>\n",
       "    </tr>\n",
       "  </tbody>\n",
       "</table>\n",
       "</div>"
      ],
      "text/plain": [
       "                                               Tweets  \\\n",
       "0   Hard Times: Does the Modi government even unde...   \n",
       "1   RT @AbdulMannanaik: How can India be called de...   \n",
       "2   How can India be called developed when its cap...   \n",
       "3   RCEP: Amul warns Modi govt, letter to Piyush G...   \n",
       "4   Worry for BJP: When PM Modi is not a factor an...   \n",
       "5   Leaked letter shows ‘International Broker’ Mad...   \n",
       "6   Sonia Gandhi: Modi govt sees institution of RT...   \n",
       "7   ‘When PR stunt backfires’: Twitter trolls Modi...   \n",
       "8   Everything is on sale...???? \\n\\nAirports for ...   \n",
       "9   Allowing European MPs to visit Kashmir was ‘gr...   \n",
       "10  Modi’s PR disaster shows India not ready for i...   \n",
       "11  RT @corpliazon: 10 Reasons why Narendra Modi w...   \n",
       "12  10 Reasons why Narendra Modi will win in 2024 ...   \n",
       "\n",
       "                                              cleaned  \n",
       "0   [Hard, Times, Does, the, Modi, government, eve...  \n",
       "1   [RT, AbdulMannanaik, How, can, India, be, call...  \n",
       "2   [How, can, India, be, called, developed, when,...  \n",
       "3   [RCEP, Amul, warns, Modi, govt, letter, to, Pi...  \n",
       "4   [Worry, for, BJP, When, PM, Modi, is, not, a, ...  \n",
       "5   [Leaked, letter, shows, International, Broker,...  \n",
       "6   [Sonia, Gandhi, Modi, govt, sees, institution,...  \n",
       "7   [, When, PR, stunt, backfires, Twitter, trolls...  \n",
       "8   [Everything, is, on, sale, Airports, for, sale...  \n",
       "9   [Allowing, European, MPs, to, visit, Kashmir, ...  \n",
       "10  [Modi, s, PR, disaster, shows, India, not, rea...  \n",
       "11  [RT, corpliazon, 10, Reasons, why, Narendra, M...  \n",
       "12  [10, Reasons, why, Narendra, Modi, will, win, ...  "
      ]
     },
     "execution_count": 32,
     "metadata": {},
     "output_type": "execute_result"
    }
   ],
   "source": [
    "tweets"
   ]
  },
  {
   "cell_type": "code",
   "execution_count": 34,
   "metadata": {},
   "outputs": [],
   "source": [
    "from nltk.corpus import stopwords"
   ]
  },
  {
   "cell_type": "code",
   "execution_count": 36,
   "metadata": {},
   "outputs": [],
   "source": [
    "a=stopwords.words('english')"
   ]
  },
  {
   "cell_type": "code",
   "execution_count": 46,
   "metadata": {},
   "outputs": [],
   "source": [
    "def stpwrds(text):\n",
    "    tw=[i for i in text if i not in a]\n",
    "    return tw\n",
    "tweets['stpwrds']=tweets['cleaned'].apply(lambda x:stpwrds(x))"
   ]
  },
  {
   "cell_type": "code",
   "execution_count": 47,
   "metadata": {},
   "outputs": [
    {
     "data": {
      "text/html": [
       "<div>\n",
       "<style scoped>\n",
       "    .dataframe tbody tr th:only-of-type {\n",
       "        vertical-align: middle;\n",
       "    }\n",
       "\n",
       "    .dataframe tbody tr th {\n",
       "        vertical-align: top;\n",
       "    }\n",
       "\n",
       "    .dataframe thead th {\n",
       "        text-align: right;\n",
       "    }\n",
       "</style>\n",
       "<table border=\"1\" class=\"dataframe\">\n",
       "  <thead>\n",
       "    <tr style=\"text-align: right;\">\n",
       "      <th></th>\n",
       "      <th>Tweets</th>\n",
       "      <th>cleaned</th>\n",
       "      <th>stpwrds</th>\n",
       "    </tr>\n",
       "  </thead>\n",
       "  <tbody>\n",
       "    <tr>\n",
       "      <td>0</td>\n",
       "      <td>Hard Times: Does the Modi government even unde...</td>\n",
       "      <td>[Hard, Times, Does, the, Modi, government, eve...</td>\n",
       "      <td>[Hard, Times, Does, Modi, government, even, un...</td>\n",
       "    </tr>\n",
       "    <tr>\n",
       "      <td>1</td>\n",
       "      <td>RT @AbdulMannanaik: How can India be called de...</td>\n",
       "      <td>[RT, AbdulMannanaik, How, can, India, be, call...</td>\n",
       "      <td>[RT, AbdulMannanaik, How, India, called, devel...</td>\n",
       "    </tr>\n",
       "    <tr>\n",
       "      <td>2</td>\n",
       "      <td>How can India be called developed when its cap...</td>\n",
       "      <td>[How, can, India, be, called, developed, when,...</td>\n",
       "      <td>[How, India, called, developed, capital, city,...</td>\n",
       "    </tr>\n",
       "    <tr>\n",
       "      <td>3</td>\n",
       "      <td>RCEP: Amul warns Modi govt, letter to Piyush G...</td>\n",
       "      <td>[RCEP, Amul, warns, Modi, govt, letter, to, Pi...</td>\n",
       "      <td>[RCEP, Amul, warns, Modi, govt, letter, Piyush...</td>\n",
       "    </tr>\n",
       "    <tr>\n",
       "      <td>4</td>\n",
       "      <td>Worry for BJP: When PM Modi is not a factor an...</td>\n",
       "      <td>[Worry, for, BJP, When, PM, Modi, is, not, a, ...</td>\n",
       "      <td>[Worry, BJP, When, PM, Modi, factor, nationali...</td>\n",
       "    </tr>\n",
       "  </tbody>\n",
       "</table>\n",
       "</div>"
      ],
      "text/plain": [
       "                                              Tweets  \\\n",
       "0  Hard Times: Does the Modi government even unde...   \n",
       "1  RT @AbdulMannanaik: How can India be called de...   \n",
       "2  How can India be called developed when its cap...   \n",
       "3  RCEP: Amul warns Modi govt, letter to Piyush G...   \n",
       "4  Worry for BJP: When PM Modi is not a factor an...   \n",
       "\n",
       "                                             cleaned  \\\n",
       "0  [Hard, Times, Does, the, Modi, government, eve...   \n",
       "1  [RT, AbdulMannanaik, How, can, India, be, call...   \n",
       "2  [How, can, India, be, called, developed, when,...   \n",
       "3  [RCEP, Amul, warns, Modi, govt, letter, to, Pi...   \n",
       "4  [Worry, for, BJP, When, PM, Modi, is, not, a, ...   \n",
       "\n",
       "                                             stpwrds  \n",
       "0  [Hard, Times, Does, Modi, government, even, un...  \n",
       "1  [RT, AbdulMannanaik, How, India, called, devel...  \n",
       "2  [How, India, called, developed, capital, city,...  \n",
       "3  [RCEP, Amul, warns, Modi, govt, letter, Piyush...  \n",
       "4  [Worry, BJP, When, PM, Modi, factor, nationali...  "
      ]
     },
     "execution_count": 47,
     "metadata": {},
     "output_type": "execute_result"
    }
   ],
   "source": [
    "tweets.head()"
   ]
  },
  {
   "cell_type": "code",
   "execution_count": 48,
   "metadata": {},
   "outputs": [
    {
     "data": {
      "text/plain": [
       "['RT',\n",
       " 'AbdulMannanaik',\n",
       " 'How',\n",
       " 'India',\n",
       " 'called',\n",
       " 'developed',\n",
       " 'capital',\n",
       " 'city',\n",
       " 'reduced',\n",
       " 'gas',\n",
       " 'chamber',\n",
       " 'Punjab',\n",
       " 'CM',\n",
       " 'Modi',\n",
       " 'https',\n",
       " 'co',\n",
       " '']"
      ]
     },
     "execution_count": 48,
     "metadata": {},
     "output_type": "execute_result"
    }
   ],
   "source": [
    "tweets.stpwrds[1]"
   ]
  },
  {
   "cell_type": "code",
   "execution_count": 50,
   "metadata": {},
   "outputs": [],
   "source": [
    "from nltk import PorterStemmer"
   ]
  },
  {
   "cell_type": "code",
   "execution_count": 51,
   "metadata": {},
   "outputs": [],
   "source": [
    "ps=PorterStemmer()"
   ]
  },
  {
   "cell_type": "code",
   "execution_count": 52,
   "metadata": {},
   "outputs": [
    {
     "data": {
      "text/plain": [
       "<PorterStemmer>"
      ]
     },
     "execution_count": 52,
     "metadata": {},
     "output_type": "execute_result"
    }
   ],
   "source": [
    "ps"
   ]
  },
  {
   "cell_type": "code",
   "execution_count": 58,
   "metadata": {},
   "outputs": [],
   "source": [
    "def stem(text):\n",
    "    st=[ps.stem(i.lower()) for i in text]\n",
    "    return(st)"
   ]
  },
  {
   "cell_type": "code",
   "execution_count": 59,
   "metadata": {},
   "outputs": [],
   "source": [
    "tweets['stemed']=[i for i in tweets.stpwrds.apply(lambda x:stem(x))]"
   ]
  },
  {
   "cell_type": "code",
   "execution_count": 60,
   "metadata": {},
   "outputs": [
    {
     "data": {
      "text/html": [
       "<div>\n",
       "<style scoped>\n",
       "    .dataframe tbody tr th:only-of-type {\n",
       "        vertical-align: middle;\n",
       "    }\n",
       "\n",
       "    .dataframe tbody tr th {\n",
       "        vertical-align: top;\n",
       "    }\n",
       "\n",
       "    .dataframe thead th {\n",
       "        text-align: right;\n",
       "    }\n",
       "</style>\n",
       "<table border=\"1\" class=\"dataframe\">\n",
       "  <thead>\n",
       "    <tr style=\"text-align: right;\">\n",
       "      <th></th>\n",
       "      <th>Tweets</th>\n",
       "      <th>cleaned</th>\n",
       "      <th>stpwrds</th>\n",
       "      <th>stemed</th>\n",
       "    </tr>\n",
       "  </thead>\n",
       "  <tbody>\n",
       "    <tr>\n",
       "      <td>0</td>\n",
       "      <td>Hard Times: Does the Modi government even unde...</td>\n",
       "      <td>[Hard, Times, Does, the, Modi, government, eve...</td>\n",
       "      <td>[Hard, Times, Does, Modi, government, even, un...</td>\n",
       "      <td>[hard, time, doe, modi, govern, even, understa...</td>\n",
       "    </tr>\n",
       "    <tr>\n",
       "      <td>1</td>\n",
       "      <td>RT @AbdulMannanaik: How can India be called de...</td>\n",
       "      <td>[RT, AbdulMannanaik, How, can, India, be, call...</td>\n",
       "      <td>[RT, AbdulMannanaik, How, India, called, devel...</td>\n",
       "      <td>[rt, abdulmannanaik, how, india, call, develop...</td>\n",
       "    </tr>\n",
       "    <tr>\n",
       "      <td>2</td>\n",
       "      <td>How can India be called developed when its cap...</td>\n",
       "      <td>[How, can, India, be, called, developed, when,...</td>\n",
       "      <td>[How, India, called, developed, capital, city,...</td>\n",
       "      <td>[how, india, call, develop, capit, citi, reduc...</td>\n",
       "    </tr>\n",
       "    <tr>\n",
       "      <td>3</td>\n",
       "      <td>RCEP: Amul warns Modi govt, letter to Piyush G...</td>\n",
       "      <td>[RCEP, Amul, warns, Modi, govt, letter, to, Pi...</td>\n",
       "      <td>[RCEP, Amul, warns, Modi, govt, letter, Piyush...</td>\n",
       "      <td>[rcep, amul, warn, modi, govt, letter, piyush,...</td>\n",
       "    </tr>\n",
       "    <tr>\n",
       "      <td>4</td>\n",
       "      <td>Worry for BJP: When PM Modi is not a factor an...</td>\n",
       "      <td>[Worry, for, BJP, When, PM, Modi, is, not, a, ...</td>\n",
       "      <td>[Worry, BJP, When, PM, Modi, factor, nationali...</td>\n",
       "      <td>[worri, bjp, when, pm, modi, factor, nation, w...</td>\n",
       "    </tr>\n",
       "    <tr>\n",
       "      <td>5</td>\n",
       "      <td>Leaked letter shows ‘International Broker’ Mad...</td>\n",
       "      <td>[Leaked, letter, shows, International, Broker,...</td>\n",
       "      <td>[Leaked, letter, shows, International, Broker,...</td>\n",
       "      <td>[leak, letter, show, intern, broker, madi, sha...</td>\n",
       "    </tr>\n",
       "    <tr>\n",
       "      <td>6</td>\n",
       "      <td>Sonia Gandhi: Modi govt sees institution of RT...</td>\n",
       "      <td>[Sonia, Gandhi, Modi, govt, sees, institution,...</td>\n",
       "      <td>[Sonia, Gandhi, Modi, govt, sees, institution,...</td>\n",
       "      <td>[sonia, gandhi, modi, govt, see, institut, rti...</td>\n",
       "    </tr>\n",
       "    <tr>\n",
       "      <td>7</td>\n",
       "      <td>‘When PR stunt backfires’: Twitter trolls Modi...</td>\n",
       "      <td>[, When, PR, stunt, backfires, Twitter, trolls...</td>\n",
       "      <td>[, When, PR, stunt, backfires, Twitter, trolls...</td>\n",
       "      <td>[, when, pr, stunt, backfir, twitter, troll, m...</td>\n",
       "    </tr>\n",
       "    <tr>\n",
       "      <td>8</td>\n",
       "      <td>Everything is on sale...???? \\n\\nAirports for ...</td>\n",
       "      <td>[Everything, is, on, sale, Airports, for, sale...</td>\n",
       "      <td>[Everything, sale, Airports, sale, Modi, gover...</td>\n",
       "      <td>[everyth, sale, airport, sale, modi, govern, p...</td>\n",
       "    </tr>\n",
       "    <tr>\n",
       "      <td>9</td>\n",
       "      <td>Allowing European MPs to visit Kashmir was ‘gr...</td>\n",
       "      <td>[Allowing, European, MPs, to, visit, Kashmir, ...</td>\n",
       "      <td>[Allowing, European, MPs, visit, Kashmir, grav...</td>\n",
       "      <td>[allow, european, mp, visit, kashmir, gravest,...</td>\n",
       "    </tr>\n",
       "    <tr>\n",
       "      <td>10</td>\n",
       "      <td>Modi’s PR disaster shows India not ready for i...</td>\n",
       "      <td>[Modi, s, PR, disaster, shows, India, not, rea...</td>\n",
       "      <td>[Modi, PR, disaster, shows, India, ready, inde...</td>\n",
       "      <td>[modi, pr, disast, show, india, readi, indepen...</td>\n",
       "    </tr>\n",
       "    <tr>\n",
       "      <td>11</td>\n",
       "      <td>RT @corpliazon: 10 Reasons why Narendra Modi w...</td>\n",
       "      <td>[RT, corpliazon, 10, Reasons, why, Narendra, M...</td>\n",
       "      <td>[RT, corpliazon, 10, Reasons, Narendra, Modi, ...</td>\n",
       "      <td>[rt, corpliazon, 10, reason, narendra, modi, w...</td>\n",
       "    </tr>\n",
       "    <tr>\n",
       "      <td>12</td>\n",
       "      <td>10 Reasons why Narendra Modi will win in 2024 ...</td>\n",
       "      <td>[10, Reasons, why, Narendra, Modi, will, win, ...</td>\n",
       "      <td>[10, Reasons, Narendra, Modi, win, 2024, elect...</td>\n",
       "      <td>[10, reason, narendra, modi, win, 2024, elect,...</td>\n",
       "    </tr>\n",
       "  </tbody>\n",
       "</table>\n",
       "</div>"
      ],
      "text/plain": [
       "                                               Tweets  \\\n",
       "0   Hard Times: Does the Modi government even unde...   \n",
       "1   RT @AbdulMannanaik: How can India be called de...   \n",
       "2   How can India be called developed when its cap...   \n",
       "3   RCEP: Amul warns Modi govt, letter to Piyush G...   \n",
       "4   Worry for BJP: When PM Modi is not a factor an...   \n",
       "5   Leaked letter shows ‘International Broker’ Mad...   \n",
       "6   Sonia Gandhi: Modi govt sees institution of RT...   \n",
       "7   ‘When PR stunt backfires’: Twitter trolls Modi...   \n",
       "8   Everything is on sale...???? \\n\\nAirports for ...   \n",
       "9   Allowing European MPs to visit Kashmir was ‘gr...   \n",
       "10  Modi’s PR disaster shows India not ready for i...   \n",
       "11  RT @corpliazon: 10 Reasons why Narendra Modi w...   \n",
       "12  10 Reasons why Narendra Modi will win in 2024 ...   \n",
       "\n",
       "                                              cleaned  \\\n",
       "0   [Hard, Times, Does, the, Modi, government, eve...   \n",
       "1   [RT, AbdulMannanaik, How, can, India, be, call...   \n",
       "2   [How, can, India, be, called, developed, when,...   \n",
       "3   [RCEP, Amul, warns, Modi, govt, letter, to, Pi...   \n",
       "4   [Worry, for, BJP, When, PM, Modi, is, not, a, ...   \n",
       "5   [Leaked, letter, shows, International, Broker,...   \n",
       "6   [Sonia, Gandhi, Modi, govt, sees, institution,...   \n",
       "7   [, When, PR, stunt, backfires, Twitter, trolls...   \n",
       "8   [Everything, is, on, sale, Airports, for, sale...   \n",
       "9   [Allowing, European, MPs, to, visit, Kashmir, ...   \n",
       "10  [Modi, s, PR, disaster, shows, India, not, rea...   \n",
       "11  [RT, corpliazon, 10, Reasons, why, Narendra, M...   \n",
       "12  [10, Reasons, why, Narendra, Modi, will, win, ...   \n",
       "\n",
       "                                              stpwrds  \\\n",
       "0   [Hard, Times, Does, Modi, government, even, un...   \n",
       "1   [RT, AbdulMannanaik, How, India, called, devel...   \n",
       "2   [How, India, called, developed, capital, city,...   \n",
       "3   [RCEP, Amul, warns, Modi, govt, letter, Piyush...   \n",
       "4   [Worry, BJP, When, PM, Modi, factor, nationali...   \n",
       "5   [Leaked, letter, shows, International, Broker,...   \n",
       "6   [Sonia, Gandhi, Modi, govt, sees, institution,...   \n",
       "7   [, When, PR, stunt, backfires, Twitter, trolls...   \n",
       "8   [Everything, sale, Airports, sale, Modi, gover...   \n",
       "9   [Allowing, European, MPs, visit, Kashmir, grav...   \n",
       "10  [Modi, PR, disaster, shows, India, ready, inde...   \n",
       "11  [RT, corpliazon, 10, Reasons, Narendra, Modi, ...   \n",
       "12  [10, Reasons, Narendra, Modi, win, 2024, elect...   \n",
       "\n",
       "                                               stemed  \n",
       "0   [hard, time, doe, modi, govern, even, understa...  \n",
       "1   [rt, abdulmannanaik, how, india, call, develop...  \n",
       "2   [how, india, call, develop, capit, citi, reduc...  \n",
       "3   [rcep, amul, warn, modi, govt, letter, piyush,...  \n",
       "4   [worri, bjp, when, pm, modi, factor, nation, w...  \n",
       "5   [leak, letter, show, intern, broker, madi, sha...  \n",
       "6   [sonia, gandhi, modi, govt, see, institut, rti...  \n",
       "7   [, when, pr, stunt, backfir, twitter, troll, m...  \n",
       "8   [everyth, sale, airport, sale, modi, govern, p...  \n",
       "9   [allow, european, mp, visit, kashmir, gravest,...  \n",
       "10  [modi, pr, disast, show, india, readi, indepen...  \n",
       "11  [rt, corpliazon, 10, reason, narendra, modi, w...  \n",
       "12  [10, reason, narendra, modi, win, 2024, elect,...  "
      ]
     },
     "execution_count": 60,
     "metadata": {},
     "output_type": "execute_result"
    }
   ],
   "source": [
    "tweets"
   ]
  },
  {
   "cell_type": "code",
   "execution_count": 61,
   "metadata": {},
   "outputs": [
    {
     "data": {
      "text/plain": [
       "['rt',\n",
       " 'abdulmannanaik',\n",
       " 'how',\n",
       " 'india',\n",
       " 'call',\n",
       " 'develop',\n",
       " 'capit',\n",
       " 'citi',\n",
       " 'reduc',\n",
       " 'ga',\n",
       " 'chamber',\n",
       " 'punjab',\n",
       " 'cm',\n",
       " 'modi',\n",
       " 'http',\n",
       " 'co',\n",
       " '']"
      ]
     },
     "execution_count": 61,
     "metadata": {},
     "output_type": "execute_result"
    }
   ],
   "source": [
    "tweets.stemed[1]"
   ]
  },
  {
   "cell_type": "code",
   "execution_count": 62,
   "metadata": {},
   "outputs": [],
   "source": [
    "#word cloud:\n",
    "from wordcloud import WordCloud"
   ]
  },
  {
   "cell_type": "code",
   "execution_count": 63,
   "metadata": {},
   "outputs": [],
   "source": [
    "import matplotlib.pyplot as plt"
   ]
  },
  {
   "cell_type": "code",
   "execution_count": 64,
   "metadata": {},
   "outputs": [],
   "source": [
    "wrd=' '\n",
    "for i in tweets.stemed:\n",
    "    for words in i:\n",
    "        wrd=wrd+words+' '\n",
    "WordCloud=WordCloud(width=600,height=600,background_color='white').generate(wrd)"
   ]
  },
  {
   "cell_type": "code",
   "execution_count": 67,
   "metadata": {},
   "outputs": [
    {
     "data": {
      "text/plain": [
       "(-0.5, 599.5, 599.5, -0.5)"
      ]
     },
     "execution_count": 67,
     "metadata": {},
     "output_type": "execute_result"
    },
    {
     "data": {
      "image/png": "[encoded data removed]",
      "text/plain": [
       "<Figure size 720x720 with 1 Axes>"
      ]
     },
     "metadata": {
      "needs_background": "light"
     },
     "output_type": "display_data"
    }
   ],
   "source": [
    "plt.figure(figsize=(10,10))\n",
    "plt.imshow(WordCloud)\n",
    "plt.axis('off')"
   ]
  },
  {
   "cell_type": "code",
   "execution_count": 68,
   "metadata": {},
   "outputs": [
    {
     "data": {
      "text/html": [
       "<div>\n",
       "<style scoped>\n",
       "    .dataframe tbody tr th:only-of-type {\n",
       "        vertical-align: middle;\n",
       "    }\n",
       "\n",
       "    .dataframe tbody tr th {\n",
       "        vertical-align: top;\n",
       "    }\n",
       "\n",
       "    .dataframe thead th {\n",
       "        text-align: right;\n",
       "    }\n",
       "</style>\n",
       "<table border=\"1\" class=\"dataframe\">\n",
       "  <thead>\n",
       "    <tr style=\"text-align: right;\">\n",
       "      <th></th>\n",
       "      <th>Tweets</th>\n",
       "      <th>cleaned</th>\n",
       "      <th>stpwrds</th>\n",
       "      <th>stemed</th>\n",
       "    </tr>\n",
       "  </thead>\n",
       "  <tbody>\n",
       "    <tr>\n",
       "      <td>0</td>\n",
       "      <td>Hard Times: Does the Modi government even unde...</td>\n",
       "      <td>[Hard, Times, Does, the, Modi, government, eve...</td>\n",
       "      <td>[Hard, Times, Does, Modi, government, even, un...</td>\n",
       "      <td>[hard, time, doe, modi, govern, even, understa...</td>\n",
       "    </tr>\n",
       "    <tr>\n",
       "      <td>1</td>\n",
       "      <td>RT @AbdulMannanaik: How can India be called de...</td>\n",
       "      <td>[RT, AbdulMannanaik, How, can, India, be, call...</td>\n",
       "      <td>[RT, AbdulMannanaik, How, India, called, devel...</td>\n",
       "      <td>[rt, abdulmannanaik, how, india, call, develop...</td>\n",
       "    </tr>\n",
       "    <tr>\n",
       "      <td>2</td>\n",
       "      <td>How can India be called developed when its cap...</td>\n",
       "      <td>[How, can, India, be, called, developed, when,...</td>\n",
       "      <td>[How, India, called, developed, capital, city,...</td>\n",
       "      <td>[how, india, call, develop, capit, citi, reduc...</td>\n",
       "    </tr>\n",
       "    <tr>\n",
       "      <td>3</td>\n",
       "      <td>RCEP: Amul warns Modi govt, letter to Piyush G...</td>\n",
       "      <td>[RCEP, Amul, warns, Modi, govt, letter, to, Pi...</td>\n",
       "      <td>[RCEP, Amul, warns, Modi, govt, letter, Piyush...</td>\n",
       "      <td>[rcep, amul, warn, modi, govt, letter, piyush,...</td>\n",
       "    </tr>\n",
       "    <tr>\n",
       "      <td>4</td>\n",
       "      <td>Worry for BJP: When PM Modi is not a factor an...</td>\n",
       "      <td>[Worry, for, BJP, When, PM, Modi, is, not, a, ...</td>\n",
       "      <td>[Worry, BJP, When, PM, Modi, factor, nationali...</td>\n",
       "      <td>[worri, bjp, when, pm, modi, factor, nation, w...</td>\n",
       "    </tr>\n",
       "  </tbody>\n",
       "</table>\n",
       "</div>"
      ],
      "text/plain": [
       "                                              Tweets  \\\n",
       "0  Hard Times: Does the Modi government even unde...   \n",
       "1  RT @AbdulMannanaik: How can India be called de...   \n",
       "2  How can India be called developed when its cap...   \n",
       "3  RCEP: Amul warns Modi govt, letter to Piyush G...   \n",
       "4  Worry for BJP: When PM Modi is not a factor an...   \n",
       "\n",
       "                                             cleaned  \\\n",
       "0  [Hard, Times, Does, the, Modi, government, eve...   \n",
       "1  [RT, AbdulMannanaik, How, can, India, be, call...   \n",
       "2  [How, can, India, be, called, developed, when,...   \n",
       "3  [RCEP, Amul, warns, Modi, govt, letter, to, Pi...   \n",
       "4  [Worry, for, BJP, When, PM, Modi, is, not, a, ...   \n",
       "\n",
       "                                             stpwrds  \\\n",
       "0  [Hard, Times, Does, Modi, government, even, un...   \n",
       "1  [RT, AbdulMannanaik, How, India, called, devel...   \n",
       "2  [How, India, called, developed, capital, city,...   \n",
       "3  [RCEP, Amul, warns, Modi, govt, letter, Piyush...   \n",
       "4  [Worry, BJP, When, PM, Modi, factor, nationali...   \n",
       "\n",
       "                                              stemed  \n",
       "0  [hard, time, doe, modi, govern, even, understa...  \n",
       "1  [rt, abdulmannanaik, how, india, call, develop...  \n",
       "2  [how, india, call, develop, capit, citi, reduc...  \n",
       "3  [rcep, amul, warn, modi, govt, letter, piyush,...  \n",
       "4  [worri, bjp, when, pm, modi, factor, nation, w...  "
      ]
     },
     "execution_count": 68,
     "metadata": {},
     "output_type": "execute_result"
    }
   ],
   "source": [
    "tweets.head()"
   ]
  },
  {
   "cell_type": "code",
   "execution_count": 80,
   "metadata": {},
   "outputs": [],
   "source": [
    "from sklearn.feature_extraction.text import TfidfVectorizer"
   ]
  },
  {
   "cell_type": "code",
   "execution_count": 84,
   "metadata": {},
   "outputs": [],
   "source": [
    "vect=TfidfVectorizer(analyzer=stpwrds)"
   ]
  },
  {
   "cell_type": "code",
   "execution_count": 85,
   "metadata": {},
   "outputs": [
    {
     "data": {
      "text/plain": [
       "TfidfVectorizer(analyzer=<function stpwrds at 0x7fcef1f72170>, binary=False,\n",
       "                decode_error='strict', dtype=<class 'numpy.float64'>,\n",
       "                encoding='utf-8', input='content', lowercase=True, max_df=1.0,\n",
       "                max_features=None, min_df=1, ngram_range=(1, 1), norm='l2',\n",
       "                preprocessor=None, smooth_idf=True, stop_words=None,\n",
       "                strip_accents=None, sublinear_tf=False,\n",
       "                token_pattern='(?u)\\\\b\\\\w\\\\w+\\\\b', tokenizer=None, use_idf=True,\n",
       "                vocabulary=None)"
      ]
     },
     "execution_count": 85,
     "metadata": {},
     "output_type": "execute_result"
    }
   ],
   "source": [
    "vect"
   ]
  },
  {
   "cell_type": "code",
   "execution_count": 102,
   "metadata": {},
   "outputs": [],
   "source": [
    "xvect=vect.fit_transform(tweets.stemed)"
   ]
  },
  {
   "cell_type": "code",
   "execution_count": 103,
   "metadata": {},
   "outputs": [],
   "source": [
    "import numpy as np"
   ]
  },
  {
   "cell_type": "code",
   "execution_count": 104,
   "metadata": {},
   "outputs": [],
   "source": [
    "xvect=pd.DataFrame(xvect.toarray())"
   ]
  },
  {
   "cell_type": "code",
   "execution_count": null,
   "metadata": {},
   "outputs": [],
   "source": []
  },
  {
   "cell_type": "code",
   "execution_count": 105,
   "metadata": {},
   "outputs": [
    {
     "data": {
      "text/html": [
       "<div>\n",
       "<style scoped>\n",
       "    .dataframe tbody tr th:only-of-type {\n",
       "        vertical-align: middle;\n",
       "    }\n",
       "\n",
       "    .dataframe tbody tr th {\n",
       "        vertical-align: top;\n",
       "    }\n",
       "\n",
       "    .dataframe thead th {\n",
       "        text-align: right;\n",
       "    }\n",
       "</style>\n",
       "<table border=\"1\" class=\"dataframe\">\n",
       "  <thead>\n",
       "    <tr style=\"text-align: right;\">\n",
       "      <th></th>\n",
       "      <th>0</th>\n",
       "      <th>1</th>\n",
       "      <th>2</th>\n",
       "      <th>3</th>\n",
       "      <th>4</th>\n",
       "      <th>5</th>\n",
       "      <th>6</th>\n",
       "      <th>7</th>\n",
       "      <th>8</th>\n",
       "      <th>9</th>\n",
       "      <th>...</th>\n",
       "      <th>103</th>\n",
       "      <th>104</th>\n",
       "      <th>105</th>\n",
       "      <th>106</th>\n",
       "      <th>107</th>\n",
       "      <th>108</th>\n",
       "      <th>109</th>\n",
       "      <th>110</th>\n",
       "      <th>111</th>\n",
       "      <th>112</th>\n",
       "    </tr>\n",
       "  </thead>\n",
       "  <tbody>\n",
       "    <tr>\n",
       "      <td>0</td>\n",
       "      <td>0.000000</td>\n",
       "      <td>0.000000</td>\n",
       "      <td>0.000000</td>\n",
       "      <td>0.000000</td>\n",
       "      <td>0.000000</td>\n",
       "      <td>0.00000</td>\n",
       "      <td>0.000000</td>\n",
       "      <td>0.000000</td>\n",
       "      <td>0.00000</td>\n",
       "      <td>0.000000</td>\n",
       "      <td>...</td>\n",
       "      <td>0.00000</td>\n",
       "      <td>0.000000</td>\n",
       "      <td>0.000000</td>\n",
       "      <td>0.000000</td>\n",
       "      <td>0.000000</td>\n",
       "      <td>0.000000</td>\n",
       "      <td>0.000000</td>\n",
       "      <td>0.000000</td>\n",
       "      <td>0.000000</td>\n",
       "      <td>0.000000</td>\n",
       "    </tr>\n",
       "    <tr>\n",
       "      <td>1</td>\n",
       "      <td>0.271204</td>\n",
       "      <td>0.000000</td>\n",
       "      <td>0.000000</td>\n",
       "      <td>0.000000</td>\n",
       "      <td>0.000000</td>\n",
       "      <td>0.31449</td>\n",
       "      <td>0.000000</td>\n",
       "      <td>0.000000</td>\n",
       "      <td>0.00000</td>\n",
       "      <td>0.000000</td>\n",
       "      <td>...</td>\n",
       "      <td>0.00000</td>\n",
       "      <td>0.000000</td>\n",
       "      <td>0.000000</td>\n",
       "      <td>0.000000</td>\n",
       "      <td>0.000000</td>\n",
       "      <td>0.000000</td>\n",
       "      <td>0.000000</td>\n",
       "      <td>0.000000</td>\n",
       "      <td>0.000000</td>\n",
       "      <td>0.000000</td>\n",
       "    </tr>\n",
       "    <tr>\n",
       "      <td>2</td>\n",
       "      <td>0.000000</td>\n",
       "      <td>0.000000</td>\n",
       "      <td>0.000000</td>\n",
       "      <td>0.000000</td>\n",
       "      <td>0.000000</td>\n",
       "      <td>0.00000</td>\n",
       "      <td>0.000000</td>\n",
       "      <td>0.000000</td>\n",
       "      <td>0.00000</td>\n",
       "      <td>0.000000</td>\n",
       "      <td>...</td>\n",
       "      <td>0.00000</td>\n",
       "      <td>0.000000</td>\n",
       "      <td>0.000000</td>\n",
       "      <td>0.000000</td>\n",
       "      <td>0.000000</td>\n",
       "      <td>0.000000</td>\n",
       "      <td>0.000000</td>\n",
       "      <td>0.000000</td>\n",
       "      <td>0.000000</td>\n",
       "      <td>0.000000</td>\n",
       "    </tr>\n",
       "    <tr>\n",
       "      <td>3</td>\n",
       "      <td>0.000000</td>\n",
       "      <td>0.000000</td>\n",
       "      <td>0.000000</td>\n",
       "      <td>0.000000</td>\n",
       "      <td>0.290705</td>\n",
       "      <td>0.00000</td>\n",
       "      <td>0.000000</td>\n",
       "      <td>0.000000</td>\n",
       "      <td>0.00000</td>\n",
       "      <td>0.000000</td>\n",
       "      <td>...</td>\n",
       "      <td>0.00000</td>\n",
       "      <td>0.000000</td>\n",
       "      <td>0.000000</td>\n",
       "      <td>0.290705</td>\n",
       "      <td>0.000000</td>\n",
       "      <td>0.000000</td>\n",
       "      <td>0.000000</td>\n",
       "      <td>0.000000</td>\n",
       "      <td>0.000000</td>\n",
       "      <td>0.000000</td>\n",
       "    </tr>\n",
       "    <tr>\n",
       "      <td>4</td>\n",
       "      <td>0.000000</td>\n",
       "      <td>0.000000</td>\n",
       "      <td>0.000000</td>\n",
       "      <td>0.368964</td>\n",
       "      <td>0.000000</td>\n",
       "      <td>0.00000</td>\n",
       "      <td>0.000000</td>\n",
       "      <td>0.000000</td>\n",
       "      <td>0.00000</td>\n",
       "      <td>0.000000</td>\n",
       "      <td>...</td>\n",
       "      <td>0.00000</td>\n",
       "      <td>0.000000</td>\n",
       "      <td>0.000000</td>\n",
       "      <td>0.000000</td>\n",
       "      <td>0.000000</td>\n",
       "      <td>0.000000</td>\n",
       "      <td>0.368964</td>\n",
       "      <td>0.368964</td>\n",
       "      <td>0.000000</td>\n",
       "      <td>0.000000</td>\n",
       "    </tr>\n",
       "    <tr>\n",
       "      <td>5</td>\n",
       "      <td>0.000000</td>\n",
       "      <td>0.000000</td>\n",
       "      <td>0.000000</td>\n",
       "      <td>0.000000</td>\n",
       "      <td>0.000000</td>\n",
       "      <td>0.00000</td>\n",
       "      <td>0.000000</td>\n",
       "      <td>0.000000</td>\n",
       "      <td>0.00000</td>\n",
       "      <td>0.000000</td>\n",
       "      <td>...</td>\n",
       "      <td>0.00000</td>\n",
       "      <td>0.000000</td>\n",
       "      <td>0.000000</td>\n",
       "      <td>0.000000</td>\n",
       "      <td>0.280097</td>\n",
       "      <td>0.000000</td>\n",
       "      <td>0.000000</td>\n",
       "      <td>0.000000</td>\n",
       "      <td>0.000000</td>\n",
       "      <td>0.000000</td>\n",
       "    </tr>\n",
       "    <tr>\n",
       "      <td>6</td>\n",
       "      <td>0.000000</td>\n",
       "      <td>0.000000</td>\n",
       "      <td>0.000000</td>\n",
       "      <td>0.000000</td>\n",
       "      <td>0.000000</td>\n",
       "      <td>0.00000</td>\n",
       "      <td>0.000000</td>\n",
       "      <td>0.300294</td>\n",
       "      <td>0.00000</td>\n",
       "      <td>0.000000</td>\n",
       "      <td>...</td>\n",
       "      <td>0.00000</td>\n",
       "      <td>0.000000</td>\n",
       "      <td>0.000000</td>\n",
       "      <td>0.000000</td>\n",
       "      <td>0.000000</td>\n",
       "      <td>0.000000</td>\n",
       "      <td>0.000000</td>\n",
       "      <td>0.000000</td>\n",
       "      <td>0.000000</td>\n",
       "      <td>0.000000</td>\n",
       "    </tr>\n",
       "    <tr>\n",
       "      <td>7</td>\n",
       "      <td>0.217997</td>\n",
       "      <td>0.000000</td>\n",
       "      <td>0.000000</td>\n",
       "      <td>0.000000</td>\n",
       "      <td>0.000000</td>\n",
       "      <td>0.00000</td>\n",
       "      <td>0.000000</td>\n",
       "      <td>0.000000</td>\n",
       "      <td>0.00000</td>\n",
       "      <td>0.000000</td>\n",
       "      <td>...</td>\n",
       "      <td>0.25279</td>\n",
       "      <td>0.000000</td>\n",
       "      <td>0.217997</td>\n",
       "      <td>0.000000</td>\n",
       "      <td>0.000000</td>\n",
       "      <td>0.000000</td>\n",
       "      <td>0.000000</td>\n",
       "      <td>0.000000</td>\n",
       "      <td>0.000000</td>\n",
       "      <td>0.000000</td>\n",
       "    </tr>\n",
       "    <tr>\n",
       "      <td>8</td>\n",
       "      <td>0.000000</td>\n",
       "      <td>0.000000</td>\n",
       "      <td>0.000000</td>\n",
       "      <td>0.000000</td>\n",
       "      <td>0.000000</td>\n",
       "      <td>0.00000</td>\n",
       "      <td>0.250545</td>\n",
       "      <td>0.000000</td>\n",
       "      <td>0.50109</td>\n",
       "      <td>0.000000</td>\n",
       "      <td>...</td>\n",
       "      <td>0.00000</td>\n",
       "      <td>0.000000</td>\n",
       "      <td>0.000000</td>\n",
       "      <td>0.000000</td>\n",
       "      <td>0.000000</td>\n",
       "      <td>0.000000</td>\n",
       "      <td>0.000000</td>\n",
       "      <td>0.000000</td>\n",
       "      <td>0.000000</td>\n",
       "      <td>0.000000</td>\n",
       "    </tr>\n",
       "    <tr>\n",
       "      <td>9</td>\n",
       "      <td>0.000000</td>\n",
       "      <td>0.000000</td>\n",
       "      <td>0.000000</td>\n",
       "      <td>0.000000</td>\n",
       "      <td>0.000000</td>\n",
       "      <td>0.00000</td>\n",
       "      <td>0.000000</td>\n",
       "      <td>0.000000</td>\n",
       "      <td>0.00000</td>\n",
       "      <td>0.320318</td>\n",
       "      <td>...</td>\n",
       "      <td>0.00000</td>\n",
       "      <td>0.320318</td>\n",
       "      <td>0.276230</td>\n",
       "      <td>0.000000</td>\n",
       "      <td>0.000000</td>\n",
       "      <td>0.000000</td>\n",
       "      <td>0.000000</td>\n",
       "      <td>0.000000</td>\n",
       "      <td>0.000000</td>\n",
       "      <td>0.000000</td>\n",
       "    </tr>\n",
       "    <tr>\n",
       "      <td>10</td>\n",
       "      <td>0.000000</td>\n",
       "      <td>0.000000</td>\n",
       "      <td>0.000000</td>\n",
       "      <td>0.000000</td>\n",
       "      <td>0.000000</td>\n",
       "      <td>0.00000</td>\n",
       "      <td>0.000000</td>\n",
       "      <td>0.000000</td>\n",
       "      <td>0.00000</td>\n",
       "      <td>0.000000</td>\n",
       "      <td>...</td>\n",
       "      <td>0.00000</td>\n",
       "      <td>0.000000</td>\n",
       "      <td>0.000000</td>\n",
       "      <td>0.000000</td>\n",
       "      <td>0.000000</td>\n",
       "      <td>0.000000</td>\n",
       "      <td>0.000000</td>\n",
       "      <td>0.000000</td>\n",
       "      <td>0.000000</td>\n",
       "      <td>0.318729</td>\n",
       "    </tr>\n",
       "    <tr>\n",
       "      <td>11</td>\n",
       "      <td>0.000000</td>\n",
       "      <td>0.319283</td>\n",
       "      <td>0.319283</td>\n",
       "      <td>0.000000</td>\n",
       "      <td>0.000000</td>\n",
       "      <td>0.00000</td>\n",
       "      <td>0.000000</td>\n",
       "      <td>0.000000</td>\n",
       "      <td>0.00000</td>\n",
       "      <td>0.000000</td>\n",
       "      <td>...</td>\n",
       "      <td>0.00000</td>\n",
       "      <td>0.000000</td>\n",
       "      <td>0.000000</td>\n",
       "      <td>0.000000</td>\n",
       "      <td>0.000000</td>\n",
       "      <td>0.319283</td>\n",
       "      <td>0.000000</td>\n",
       "      <td>0.000000</td>\n",
       "      <td>0.319283</td>\n",
       "      <td>0.000000</td>\n",
       "    </tr>\n",
       "    <tr>\n",
       "      <td>12</td>\n",
       "      <td>0.000000</td>\n",
       "      <td>0.366007</td>\n",
       "      <td>0.366007</td>\n",
       "      <td>0.000000</td>\n",
       "      <td>0.000000</td>\n",
       "      <td>0.00000</td>\n",
       "      <td>0.000000</td>\n",
       "      <td>0.000000</td>\n",
       "      <td>0.00000</td>\n",
       "      <td>0.000000</td>\n",
       "      <td>...</td>\n",
       "      <td>0.00000</td>\n",
       "      <td>0.000000</td>\n",
       "      <td>0.000000</td>\n",
       "      <td>0.000000</td>\n",
       "      <td>0.000000</td>\n",
       "      <td>0.366007</td>\n",
       "      <td>0.000000</td>\n",
       "      <td>0.000000</td>\n",
       "      <td>0.366007</td>\n",
       "      <td>0.000000</td>\n",
       "    </tr>\n",
       "  </tbody>\n",
       "</table>\n",
       "<p>13 rows × 113 columns</p>\n",
       "</div>"
      ],
      "text/plain": [
       "         0         1         2         3         4        5         6    \\\n",
       "0   0.000000  0.000000  0.000000  0.000000  0.000000  0.00000  0.000000   \n",
       "1   0.271204  0.000000  0.000000  0.000000  0.000000  0.31449  0.000000   \n",
       "2   0.000000  0.000000  0.000000  0.000000  0.000000  0.00000  0.000000   \n",
       "3   0.000000  0.000000  0.000000  0.000000  0.290705  0.00000  0.000000   \n",
       "4   0.000000  0.000000  0.000000  0.368964  0.000000  0.00000  0.000000   \n",
       "5   0.000000  0.000000  0.000000  0.000000  0.000000  0.00000  0.000000   \n",
       "6   0.000000  0.000000  0.000000  0.000000  0.000000  0.00000  0.000000   \n",
       "7   0.217997  0.000000  0.000000  0.000000  0.000000  0.00000  0.000000   \n",
       "8   0.000000  0.000000  0.000000  0.000000  0.000000  0.00000  0.250545   \n",
       "9   0.000000  0.000000  0.000000  0.000000  0.000000  0.00000  0.000000   \n",
       "10  0.000000  0.000000  0.000000  0.000000  0.000000  0.00000  0.000000   \n",
       "11  0.000000  0.319283  0.319283  0.000000  0.000000  0.00000  0.000000   \n",
       "12  0.000000  0.366007  0.366007  0.000000  0.000000  0.00000  0.000000   \n",
       "\n",
       "         7        8         9    ...      103       104       105       106  \\\n",
       "0   0.000000  0.00000  0.000000  ...  0.00000  0.000000  0.000000  0.000000   \n",
       "1   0.000000  0.00000  0.000000  ...  0.00000  0.000000  0.000000  0.000000   \n",
       "2   0.000000  0.00000  0.000000  ...  0.00000  0.000000  0.000000  0.000000   \n",
       "3   0.000000  0.00000  0.000000  ...  0.00000  0.000000  0.000000  0.290705   \n",
       "4   0.000000  0.00000  0.000000  ...  0.00000  0.000000  0.000000  0.000000   \n",
       "5   0.000000  0.00000  0.000000  ...  0.00000  0.000000  0.000000  0.000000   \n",
       "6   0.300294  0.00000  0.000000  ...  0.00000  0.000000  0.000000  0.000000   \n",
       "7   0.000000  0.00000  0.000000  ...  0.25279  0.000000  0.217997  0.000000   \n",
       "8   0.000000  0.50109  0.000000  ...  0.00000  0.000000  0.000000  0.000000   \n",
       "9   0.000000  0.00000  0.320318  ...  0.00000  0.320318  0.276230  0.000000   \n",
       "10  0.000000  0.00000  0.000000  ...  0.00000  0.000000  0.000000  0.000000   \n",
       "11  0.000000  0.00000  0.000000  ...  0.00000  0.000000  0.000000  0.000000   \n",
       "12  0.000000  0.00000  0.000000  ...  0.00000  0.000000  0.000000  0.000000   \n",
       "\n",
       "         107       108       109       110       111       112  \n",
       "0   0.000000  0.000000  0.000000  0.000000  0.000000  0.000000  \n",
       "1   0.000000  0.000000  0.000000  0.000000  0.000000  0.000000  \n",
       "2   0.000000  0.000000  0.000000  0.000000  0.000000  0.000000  \n",
       "3   0.000000  0.000000  0.000000  0.000000  0.000000  0.000000  \n",
       "4   0.000000  0.000000  0.368964  0.368964  0.000000  0.000000  \n",
       "5   0.280097  0.000000  0.000000  0.000000  0.000000  0.000000  \n",
       "6   0.000000  0.000000  0.000000  0.000000  0.000000  0.000000  \n",
       "7   0.000000  0.000000  0.000000  0.000000  0.000000  0.000000  \n",
       "8   0.000000  0.000000  0.000000  0.000000  0.000000  0.000000  \n",
       "9   0.000000  0.000000  0.000000  0.000000  0.000000  0.000000  \n",
       "10  0.000000  0.000000  0.000000  0.000000  0.000000  0.318729  \n",
       "11  0.000000  0.319283  0.000000  0.000000  0.319283  0.000000  \n",
       "12  0.000000  0.366007  0.000000  0.000000  0.366007  0.000000  \n",
       "\n",
       "[13 rows x 113 columns]"
      ]
     },
     "execution_count": 105,
     "metadata": {},
     "output_type": "execute_result"
    }
   ],
   "source": [
    "xvect"
   ]
  },
  {
   "cell_type": "code",
   "execution_count": 106,
   "metadata": {},
   "outputs": [],
   "source": [
    "from textblob import TextBlob"
   ]
  },
  {
   "cell_type": "code",
   "execution_count": 111,
   "metadata": {},
   "outputs": [],
   "source": [
    "tx=TextBlob(tweet[0].text)"
   ]
  },
  {
   "cell_type": "code",
   "execution_count": 112,
   "metadata": {},
   "outputs": [
    {
     "data": {
      "text/plain": [
       "-0.2916666666666667"
      ]
     },
     "execution_count": 112,
     "metadata": {},
     "output_type": "execute_result"
    }
   ],
   "source": [
    "tx.sentiment.polarity"
   ]
  },
  {
   "cell_type": "code",
   "execution_count": 113,
   "metadata": {},
   "outputs": [
    {
     "data": {
      "text/plain": [
       "Index(['Tweets', 'cleaned', 'stpwrds', 'stemed'], dtype='object')"
      ]
     },
     "execution_count": 113,
     "metadata": {},
     "output_type": "execute_result"
    }
   ],
   "source": [
    "tweets.columns"
   ]
  },
  {
   "cell_type": "code",
   "execution_count": 114,
   "metadata": {},
   "outputs": [],
   "source": [
    "twe=tweets.columns.astype(str)"
   ]
  },
  {
   "cell_type": "code",
   "execution_count": null,
   "metadata": {},
   "outputs": [],
   "source": []
  }
 ],
 "metadata": {
  "kernelspec": {
   "display_name": "Python 3",
   "language": "python",
   "name": "python3"
  },
  "language_info": {
   "codemirror_mode": {
    "name": "ipython",
    "version": 3
   },
   "file_extension": ".py",
   "mimetype": "text/x-python",
   "name": "python",
   "nbconvert_exporter": "python",
   "pygments_lexer": "ipython3",
   "version": "3.7.4"
  }
 },
 "nbformat": 4,
 "nbformat_minor": 2
}
